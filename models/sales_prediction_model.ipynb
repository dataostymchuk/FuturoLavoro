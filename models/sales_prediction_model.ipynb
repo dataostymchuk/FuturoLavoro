{
  "nbformat": 4,
  "nbformat_minor": 0,
  "metadata": {
    "colab": {
      "name": "sales_prediction_model.ipynb",
      "provenance": [],
      "collapsed_sections": []
    },
    "kernelspec": {
      "name": "python3",
      "display_name": "Python 3"
    }
  },
  "cells": [
    {
      "cell_type": "code",
      "metadata": {
        "id": "RO6rtpsEbPU_",
        "colab_type": "code",
        "outputId": "a75b09d2-289b-4ddb-a970-860150b3c68b",
        "colab": {
          "base_uri": "https://localhost:8080/",
          "height": 204
        }
      },
      "source": [
        "!wget https://raw.githubusercontent.com/fmardero/FuturoLavoro/master/sales_data/db2.0.csv"
      ],
      "execution_count": 1,
      "outputs": [
        {
          "output_type": "stream",
          "text": [
            "--2019-12-13 17:00:05--  https://raw.githubusercontent.com/fmardero/FuturoLavoro/master/sales_data/db2.0.csv\n",
            "Resolving raw.githubusercontent.com (raw.githubusercontent.com)... 151.101.0.133, 151.101.64.133, 151.101.128.133, ...\n",
            "Connecting to raw.githubusercontent.com (raw.githubusercontent.com)|151.101.0.133|:443... connected.\n",
            "HTTP request sent, awaiting response... 200 OK\n",
            "Length: 64734 (63K) [text/plain]\n",
            "Saving to: ‘db2.0.csv.5’\n",
            "\n",
            "\rdb2.0.csv.5           0%[                    ]       0  --.-KB/s               \rdb2.0.csv.5         100%[===================>]  63.22K  --.-KB/s    in 0.02s   \n",
            "\n",
            "2019-12-13 17:00:06 (2.53 MB/s) - ‘db2.0.csv.5’ saved [64734/64734]\n",
            "\n"
          ],
          "name": "stdout"
        }
      ]
    },
    {
      "cell_type": "code",
      "metadata": {
        "id": "rI3pCYRZbej_",
        "colab_type": "code",
        "colab": {}
      },
      "source": [
        "import numpy as np\n",
        "import pandas as pd\n",
        "import seaborn as sns\n",
        "import matplotlib.pyplot as plt"
      ],
      "execution_count": 0,
      "outputs": []
    },
    {
      "cell_type": "code",
      "metadata": {
        "id": "7H5YGilsbqgI",
        "colab_type": "code",
        "colab": {}
      },
      "source": [
        "df = pd.read_csv('db2.0.csv')\n",
        "df.rename(columns={'data': 'date', 'somma_polli': 'sales', 'feste': 'holidays', 'fenomeni': 'weather'}, inplace=True)\n",
        "df.date = pd.to_datetime(df.date)"
      ],
      "execution_count": 0,
      "outputs": []
    },
    {
      "cell_type": "code",
      "metadata": {
        "id": "vzJTfJOhb3fZ",
        "colab_type": "code",
        "outputId": "9a6b424a-aad6-41e7-de80-3082512c26aa",
        "colab": {
          "base_uri": "https://localhost:8080/",
          "height": 255
        }
      },
      "source": [
        "df.info()"
      ],
      "execution_count": 4,
      "outputs": [
        {
          "output_type": "stream",
          "text": [
            "<class 'pandas.core.frame.DataFrame'>\n",
            "RangeIndex: 1520 entries, 0 to 1519\n",
            "Data columns (total 9 columns):\n",
            "date                   1520 non-null datetime64[ns]\n",
            "dayname                1520 non-null object\n",
            "sales                  1520 non-null int64\n",
            "t_media                1520 non-null int64\n",
            "t_min                  1520 non-null int64\n",
            "umidità_percentuale    1520 non-null int64\n",
            "weather                1520 non-null object\n",
            "juventus               1520 non-null object\n",
            "holidays               83 non-null object\n",
            "dtypes: datetime64[ns](1), int64(4), object(4)\n",
            "memory usage: 107.0+ KB\n"
          ],
          "name": "stdout"
        }
      ]
    },
    {
      "cell_type": "code",
      "metadata": {
        "id": "KxpNG_6ob4gS",
        "colab_type": "code",
        "outputId": "94ff704b-b450-4566-9d8a-791bbd0e14b5",
        "colab": {
          "base_uri": "https://localhost:8080/",
          "height": 204
        }
      },
      "source": [
        "df.head()"
      ],
      "execution_count": 5,
      "outputs": [
        {
          "output_type": "execute_result",
          "data": {
            "text/html": [
              "<div>\n",
              "<style scoped>\n",
              "    .dataframe tbody tr th:only-of-type {\n",
              "        vertical-align: middle;\n",
              "    }\n",
              "\n",
              "    .dataframe tbody tr th {\n",
              "        vertical-align: top;\n",
              "    }\n",
              "\n",
              "    .dataframe thead th {\n",
              "        text-align: right;\n",
              "    }\n",
              "</style>\n",
              "<table border=\"1\" class=\"dataframe\">\n",
              "  <thead>\n",
              "    <tr style=\"text-align: right;\">\n",
              "      <th></th>\n",
              "      <th>date</th>\n",
              "      <th>dayname</th>\n",
              "      <th>sales</th>\n",
              "      <th>t_media</th>\n",
              "      <th>t_min</th>\n",
              "      <th>umidità_percentuale</th>\n",
              "      <th>weather</th>\n",
              "      <th>juventus</th>\n",
              "      <th>holidays</th>\n",
              "    </tr>\n",
              "  </thead>\n",
              "  <tbody>\n",
              "    <tr>\n",
              "      <th>0</th>\n",
              "      <td>2015-01-01</td>\n",
              "      <td>giovedì</td>\n",
              "      <td>6</td>\n",
              "      <td>0</td>\n",
              "      <td>-5</td>\n",
              "      <td>81</td>\n",
              "      <td>sole</td>\n",
              "      <td>0</td>\n",
              "      <td>Primo dell'Anno</td>\n",
              "    </tr>\n",
              "    <tr>\n",
              "      <th>1</th>\n",
              "      <td>2015-01-02</td>\n",
              "      <td>venerdì</td>\n",
              "      <td>9</td>\n",
              "      <td>0</td>\n",
              "      <td>-4</td>\n",
              "      <td>85</td>\n",
              "      <td>sole</td>\n",
              "      <td>0</td>\n",
              "      <td>NaN</td>\n",
              "    </tr>\n",
              "    <tr>\n",
              "      <th>2</th>\n",
              "      <td>2015-01-03</td>\n",
              "      <td>sabato</td>\n",
              "      <td>14</td>\n",
              "      <td>4</td>\n",
              "      <td>-1</td>\n",
              "      <td>78</td>\n",
              "      <td>sole</td>\n",
              "      <td>0</td>\n",
              "      <td>NaN</td>\n",
              "    </tr>\n",
              "    <tr>\n",
              "      <th>3</th>\n",
              "      <td>2015-01-04</td>\n",
              "      <td>domenica</td>\n",
              "      <td>10</td>\n",
              "      <td>3</td>\n",
              "      <td>-3</td>\n",
              "      <td>68</td>\n",
              "      <td>sole</td>\n",
              "      <td>0</td>\n",
              "      <td>NaN</td>\n",
              "    </tr>\n",
              "    <tr>\n",
              "      <th>4</th>\n",
              "      <td>2015-01-05</td>\n",
              "      <td>lunedì</td>\n",
              "      <td>14</td>\n",
              "      <td>4</td>\n",
              "      <td>-3</td>\n",
              "      <td>56</td>\n",
              "      <td>sole</td>\n",
              "      <td>0</td>\n",
              "      <td>NaN</td>\n",
              "    </tr>\n",
              "  </tbody>\n",
              "</table>\n",
              "</div>"
            ],
            "text/plain": [
              "        date   dayname  sales  ...  weather  juventus         holidays\n",
              "0 2015-01-01   giovedì      6  ...     sole         0  Primo dell'Anno\n",
              "1 2015-01-02   venerdì      9  ...     sole         0              NaN\n",
              "2 2015-01-03    sabato     14  ...     sole         0              NaN\n",
              "3 2015-01-04  domenica     10  ...     sole         0              NaN\n",
              "4 2015-01-05    lunedì     14  ...     sole         0              NaN\n",
              "\n",
              "[5 rows x 9 columns]"
            ]
          },
          "metadata": {
            "tags": []
          },
          "execution_count": 5
        }
      ]
    },
    {
      "cell_type": "markdown",
      "metadata": {
        "id": "4Wx1GlYTdWet",
        "colab_type": "text"
      },
      "source": [
        "## Cleaning Days"
      ]
    },
    {
      "cell_type": "code",
      "metadata": {
        "id": "KWz1kwAgdZv_",
        "colab_type": "code",
        "outputId": "20424170-b08c-4d01-9d38-254b4d07b972",
        "colab": {
          "base_uri": "https://localhost:8080/",
          "height": 153
        }
      },
      "source": [
        "df.dayname.value_counts()"
      ],
      "execution_count": 6,
      "outputs": [
        {
          "output_type": "execute_result",
          "data": {
            "text/plain": [
              "sabato       255\n",
              "venerdì      253\n",
              "giovedì      252\n",
              "mercoledì    250\n",
              "martedì      250\n",
              "domenica     249\n",
              "lunedì        11\n",
              "Name: dayname, dtype: int64"
            ]
          },
          "metadata": {
            "tags": []
          },
          "execution_count": 6
        }
      ]
    },
    {
      "cell_type": "markdown",
      "metadata": {
        "id": "YKwuwWN5dTB1",
        "colab_type": "text"
      },
      "source": [
        "Delate Mondays"
      ]
    },
    {
      "cell_type": "code",
      "metadata": {
        "id": "s8LR8ZVUdV-j",
        "colab_type": "code",
        "colab": {}
      },
      "source": [
        "df.drop(index=df.query(\"dayname == 'lunedì'\").index, inplace=True)"
      ],
      "execution_count": 0,
      "outputs": []
    },
    {
      "cell_type": "code",
      "metadata": {
        "id": "6z1mwxvLdxY7",
        "colab_type": "code",
        "outputId": "686d75c4-6365-499a-c6a6-e3699b96c028",
        "colab": {
          "base_uri": "https://localhost:8080/",
          "height": 136
        }
      },
      "source": [
        "df.dayname.value_counts()"
      ],
      "execution_count": 8,
      "outputs": [
        {
          "output_type": "execute_result",
          "data": {
            "text/plain": [
              "sabato       255\n",
              "venerdì      253\n",
              "giovedì      252\n",
              "mercoledì    250\n",
              "martedì      250\n",
              "domenica     249\n",
              "Name: dayname, dtype: int64"
            ]
          },
          "metadata": {
            "tags": []
          },
          "execution_count": 8
        }
      ]
    },
    {
      "cell_type": "markdown",
      "metadata": {
        "id": "SGvgPfQ3d8pL",
        "colab_type": "text"
      },
      "source": [
        "## AutoCorrelogram"
      ]
    },
    {
      "cell_type": "code",
      "metadata": {
        "id": "5uU3BP34b5Ud",
        "colab_type": "code",
        "outputId": "a912588d-7c38-471b-f27b-b8f4ded225ac",
        "colab": {
          "base_uri": "https://localhost:8080/",
          "height": 392
        }
      },
      "source": [
        "from statsmodels.graphics.tsaplots import plot_acf\n",
        "\n",
        "fig, ax = plt.subplots(figsize=(12, 6))\n",
        "plot_acf(df.sales.values, lags=65, ax=ax)\n",
        "plt.title('Sales Autocorrelation', fontsize=15)\n",
        "plt.show()"
      ],
      "execution_count": 9,
      "outputs": [
        {
          "output_type": "display_data",
          "data": {
            "image/png": "[encoded data removed]",
            "text/plain": [
              "<Figure size 864x432 with 1 Axes>"
            ]
          },
          "metadata": {
            "tags": []
          }
        }
      ]
    },
    {
      "cell_type": "markdown",
      "metadata": {
        "id": "jycBVU-ef_mT",
        "colab_type": "text"
      },
      "source": [
        "## Sales PDF"
      ]
    },
    {
      "cell_type": "code",
      "metadata": {
        "id": "W-5FIkVLgEHa",
        "colab_type": "code",
        "outputId": "c2379583-298d-45b5-f627-f1116d485b1b",
        "colab": {
          "base_uri": "https://localhost:8080/",
          "height": 296
        }
      },
      "source": [
        "sns.distplot(df.sales, rug=False)"
      ],
      "execution_count": 10,
      "outputs": [
        {
          "output_type": "execute_result",
          "data": {
            "text/plain": [
              "<matplotlib.axes._subplots.AxesSubplot at 0x7fe325c340f0>"
            ]
          },
          "metadata": {
            "tags": []
          },
          "execution_count": 10
        },
        {
          "output_type": "display_data",
          "data": {
            "image/png": "[encoded data removed]",
            "text/plain": [
              "<Figure size 432x288 with 1 Axes>"
            ]
          },
          "metadata": {
            "tags": []
          }
        }
      ]
    },
    {
      "cell_type": "code",
      "metadata": {
        "id": "aPVcLfpVgaGd",
        "colab_type": "code",
        "outputId": "c102ba3c-1fe1-4e2d-d014-0c87f0759f2d",
        "colab": {
          "base_uri": "https://localhost:8080/",
          "height": 296
        }
      },
      "source": [
        "sns.boxplot(df.sales)"
      ],
      "execution_count": 11,
      "outputs": [
        {
          "output_type": "execute_result",
          "data": {
            "text/plain": [
              "<matplotlib.axes._subplots.AxesSubplot at 0x7fe320208da0>"
            ]
          },
          "metadata": {
            "tags": []
          },
          "execution_count": 11
        },
        {
          "output_type": "display_data",
          "data": {
            "image/png": "[encoded data removed]",
            "text/plain": [
              "<Figure size 432x288 with 1 Axes>"
            ]
          },
          "metadata": {
            "tags": []
          }
        }
      ]
    },
    {
      "cell_type": "code",
      "metadata": {
        "id": "oY2mN9MXgkHh",
        "colab_type": "code",
        "outputId": "b7068ef5-75ae-4fa7-fd5c-15904e755aa5",
        "colab": {
          "base_uri": "https://localhost:8080/",
          "height": 421
        }
      },
      "source": [
        "df.query('sales < 10')"
      ],
      "execution_count": 12,
      "outputs": [
        {
          "output_type": "execute_result",
          "data": {
            "text/html": [
              "<div>\n",
              "<style scoped>\n",
              "    .dataframe tbody tr th:only-of-type {\n",
              "        vertical-align: middle;\n",
              "    }\n",
              "\n",
              "    .dataframe tbody tr th {\n",
              "        vertical-align: top;\n",
              "    }\n",
              "\n",
              "    .dataframe thead th {\n",
              "        text-align: right;\n",
              "    }\n",
              "</style>\n",
              "<table border=\"1\" class=\"dataframe\">\n",
              "  <thead>\n",
              "    <tr style=\"text-align: right;\">\n",
              "      <th></th>\n",
              "      <th>date</th>\n",
              "      <th>dayname</th>\n",
              "      <th>sales</th>\n",
              "      <th>t_media</th>\n",
              "      <th>t_min</th>\n",
              "      <th>umidità_percentuale</th>\n",
              "      <th>weather</th>\n",
              "      <th>juventus</th>\n",
              "      <th>holidays</th>\n",
              "    </tr>\n",
              "  </thead>\n",
              "  <tbody>\n",
              "    <tr>\n",
              "      <th>0</th>\n",
              "      <td>2015-01-01</td>\n",
              "      <td>giovedì</td>\n",
              "      <td>6</td>\n",
              "      <td>0</td>\n",
              "      <td>-5</td>\n",
              "      <td>81</td>\n",
              "      <td>sole</td>\n",
              "      <td>0</td>\n",
              "      <td>Primo dell'Anno</td>\n",
              "    </tr>\n",
              "    <tr>\n",
              "      <th>1</th>\n",
              "      <td>2015-01-02</td>\n",
              "      <td>venerdì</td>\n",
              "      <td>9</td>\n",
              "      <td>0</td>\n",
              "      <td>-4</td>\n",
              "      <td>85</td>\n",
              "      <td>sole</td>\n",
              "      <td>0</td>\n",
              "      <td>NaN</td>\n",
              "    </tr>\n",
              "    <tr>\n",
              "      <th>6</th>\n",
              "      <td>2015-01-07</td>\n",
              "      <td>mercoledì</td>\n",
              "      <td>4</td>\n",
              "      <td>3</td>\n",
              "      <td>-1</td>\n",
              "      <td>83</td>\n",
              "      <td>sole</td>\n",
              "      <td>serie A</td>\n",
              "      <td>NaN</td>\n",
              "    </tr>\n",
              "    <tr>\n",
              "      <th>10</th>\n",
              "      <td>2015-01-11</td>\n",
              "      <td>domenica</td>\n",
              "      <td>6</td>\n",
              "      <td>1</td>\n",
              "      <td>-2</td>\n",
              "      <td>91</td>\n",
              "      <td>nebbia</td>\n",
              "      <td>0</td>\n",
              "      <td>NaN</td>\n",
              "    </tr>\n",
              "    <tr>\n",
              "      <th>13</th>\n",
              "      <td>2015-01-15</td>\n",
              "      <td>giovedì</td>\n",
              "      <td>8</td>\n",
              "      <td>4</td>\n",
              "      <td>0</td>\n",
              "      <td>88</td>\n",
              "      <td>pioggia nebbia</td>\n",
              "      <td>0</td>\n",
              "      <td>NaN</td>\n",
              "    </tr>\n",
              "    <tr>\n",
              "      <th>19</th>\n",
              "      <td>2015-01-22</td>\n",
              "      <td>giovedì</td>\n",
              "      <td>7</td>\n",
              "      <td>6</td>\n",
              "      <td>5</td>\n",
              "      <td>87</td>\n",
              "      <td>pioggia</td>\n",
              "      <td>0</td>\n",
              "      <td>NaN</td>\n",
              "    </tr>\n",
              "    <tr>\n",
              "      <th>82</th>\n",
              "      <td>2015-04-05</td>\n",
              "      <td>domenica</td>\n",
              "      <td>5</td>\n",
              "      <td>9</td>\n",
              "      <td>6</td>\n",
              "      <td>62</td>\n",
              "      <td>pioggia</td>\n",
              "      <td>serie A</td>\n",
              "      <td>Pasqua</td>\n",
              "    </tr>\n",
              "    <tr>\n",
              "      <th>83</th>\n",
              "      <td>2015-04-07</td>\n",
              "      <td>martedì</td>\n",
              "      <td>8</td>\n",
              "      <td>10</td>\n",
              "      <td>2</td>\n",
              "      <td>37</td>\n",
              "      <td>sole</td>\n",
              "      <td>0</td>\n",
              "      <td>NaN</td>\n",
              "    </tr>\n",
              "    <tr>\n",
              "      <th>439</th>\n",
              "      <td>2016-05-31</td>\n",
              "      <td>martedì</td>\n",
              "      <td>9</td>\n",
              "      <td>19</td>\n",
              "      <td>15</td>\n",
              "      <td>73</td>\n",
              "      <td>sole</td>\n",
              "      <td>0</td>\n",
              "      <td>NaN</td>\n",
              "    </tr>\n",
              "    <tr>\n",
              "      <th>616</th>\n",
              "      <td>2016-12-22</td>\n",
              "      <td>giovedì</td>\n",
              "      <td>9</td>\n",
              "      <td>4</td>\n",
              "      <td>-1</td>\n",
              "      <td>84</td>\n",
              "      <td>sole</td>\n",
              "      <td>0</td>\n",
              "      <td>NaN</td>\n",
              "    </tr>\n",
              "    <tr>\n",
              "      <th>632</th>\n",
              "      <td>2017-01-10</td>\n",
              "      <td>martedì</td>\n",
              "      <td>9</td>\n",
              "      <td>0</td>\n",
              "      <td>-7</td>\n",
              "      <td>74</td>\n",
              "      <td>sole</td>\n",
              "      <td>0</td>\n",
              "      <td>NaN</td>\n",
              "    </tr>\n",
              "    <tr>\n",
              "      <th>852</th>\n",
              "      <td>2017-09-23</td>\n",
              "      <td>sabato</td>\n",
              "      <td>5</td>\n",
              "      <td>17</td>\n",
              "      <td>12</td>\n",
              "      <td>73</td>\n",
              "      <td>sole</td>\n",
              "      <td>0</td>\n",
              "      <td>NaN</td>\n",
              "    </tr>\n",
              "  </tbody>\n",
              "</table>\n",
              "</div>"
            ],
            "text/plain": [
              "          date    dayname  sales  ...          weather  juventus         holidays\n",
              "0   2015-01-01    giovedì      6  ...             sole         0  Primo dell'Anno\n",
              "1   2015-01-02    venerdì      9  ...             sole         0              NaN\n",
              "6   2015-01-07  mercoledì      4  ...             sole   serie A              NaN\n",
              "10  2015-01-11   domenica      6  ...          nebbia          0              NaN\n",
              "13  2015-01-15    giovedì      8  ...  pioggia nebbia          0              NaN\n",
              "19  2015-01-22    giovedì      7  ...         pioggia          0              NaN\n",
              "82  2015-04-05   domenica      5  ...         pioggia    serie A           Pasqua\n",
              "83  2015-04-07    martedì      8  ...             sole         0              NaN\n",
              "439 2016-05-31    martedì      9  ...             sole         0              NaN\n",
              "616 2016-12-22    giovedì      9  ...             sole         0              NaN\n",
              "632 2017-01-10    martedì      9  ...             sole         0              NaN\n",
              "852 2017-09-23     sabato      5  ...             sole         0              NaN\n",
              "\n",
              "[12 rows x 9 columns]"
            ]
          },
          "metadata": {
            "tags": []
          },
          "execution_count": 12
        }
      ]
    },
    {
      "cell_type": "markdown",
      "metadata": {
        "id": "HPAD6izOhjMB",
        "colab_type": "text"
      },
      "source": [
        "### Fist 100 days after opening"
      ]
    },
    {
      "cell_type": "code",
      "metadata": {
        "id": "Jl7TztoOg30s",
        "colab_type": "code",
        "outputId": "b84aef13-710a-420d-c53d-b8179d8bd71e",
        "colab": {
          "base_uri": "https://localhost:8080/",
          "height": 700
        }
      },
      "source": [
        "df.loc[:21]"
      ],
      "execution_count": 13,
      "outputs": [
        {
          "output_type": "execute_result",
          "data": {
            "text/html": [
              "<div>\n",
              "<style scoped>\n",
              "    .dataframe tbody tr th:only-of-type {\n",
              "        vertical-align: middle;\n",
              "    }\n",
              "\n",
              "    .dataframe tbody tr th {\n",
              "        vertical-align: top;\n",
              "    }\n",
              "\n",
              "    .dataframe thead th {\n",
              "        text-align: right;\n",
              "    }\n",
              "</style>\n",
              "<table border=\"1\" class=\"dataframe\">\n",
              "  <thead>\n",
              "    <tr style=\"text-align: right;\">\n",
              "      <th></th>\n",
              "      <th>date</th>\n",
              "      <th>dayname</th>\n",
              "      <th>sales</th>\n",
              "      <th>t_media</th>\n",
              "      <th>t_min</th>\n",
              "      <th>umidità_percentuale</th>\n",
              "      <th>weather</th>\n",
              "      <th>juventus</th>\n",
              "      <th>holidays</th>\n",
              "    </tr>\n",
              "  </thead>\n",
              "  <tbody>\n",
              "    <tr>\n",
              "      <th>0</th>\n",
              "      <td>2015-01-01</td>\n",
              "      <td>giovedì</td>\n",
              "      <td>6</td>\n",
              "      <td>0</td>\n",
              "      <td>-5</td>\n",
              "      <td>81</td>\n",
              "      <td>sole</td>\n",
              "      <td>0</td>\n",
              "      <td>Primo dell'Anno</td>\n",
              "    </tr>\n",
              "    <tr>\n",
              "      <th>1</th>\n",
              "      <td>2015-01-02</td>\n",
              "      <td>venerdì</td>\n",
              "      <td>9</td>\n",
              "      <td>0</td>\n",
              "      <td>-4</td>\n",
              "      <td>85</td>\n",
              "      <td>sole</td>\n",
              "      <td>0</td>\n",
              "      <td>NaN</td>\n",
              "    </tr>\n",
              "    <tr>\n",
              "      <th>2</th>\n",
              "      <td>2015-01-03</td>\n",
              "      <td>sabato</td>\n",
              "      <td>14</td>\n",
              "      <td>4</td>\n",
              "      <td>-1</td>\n",
              "      <td>78</td>\n",
              "      <td>sole</td>\n",
              "      <td>0</td>\n",
              "      <td>NaN</td>\n",
              "    </tr>\n",
              "    <tr>\n",
              "      <th>3</th>\n",
              "      <td>2015-01-04</td>\n",
              "      <td>domenica</td>\n",
              "      <td>10</td>\n",
              "      <td>3</td>\n",
              "      <td>-3</td>\n",
              "      <td>68</td>\n",
              "      <td>sole</td>\n",
              "      <td>0</td>\n",
              "      <td>NaN</td>\n",
              "    </tr>\n",
              "    <tr>\n",
              "      <th>5</th>\n",
              "      <td>2015-01-06</td>\n",
              "      <td>martedì</td>\n",
              "      <td>13</td>\n",
              "      <td>2</td>\n",
              "      <td>-3</td>\n",
              "      <td>80</td>\n",
              "      <td>sole</td>\n",
              "      <td>0</td>\n",
              "      <td>Epifania</td>\n",
              "    </tr>\n",
              "    <tr>\n",
              "      <th>6</th>\n",
              "      <td>2015-01-07</td>\n",
              "      <td>mercoledì</td>\n",
              "      <td>4</td>\n",
              "      <td>3</td>\n",
              "      <td>-1</td>\n",
              "      <td>83</td>\n",
              "      <td>sole</td>\n",
              "      <td>serie A</td>\n",
              "      <td>NaN</td>\n",
              "    </tr>\n",
              "    <tr>\n",
              "      <th>7</th>\n",
              "      <td>2015-01-08</td>\n",
              "      <td>giovedì</td>\n",
              "      <td>10</td>\n",
              "      <td>4</td>\n",
              "      <td>1</td>\n",
              "      <td>84</td>\n",
              "      <td>sole</td>\n",
              "      <td>0</td>\n",
              "      <td>NaN</td>\n",
              "    </tr>\n",
              "    <tr>\n",
              "      <th>8</th>\n",
              "      <td>2015-01-09</td>\n",
              "      <td>venerdì</td>\n",
              "      <td>13</td>\n",
              "      <td>2</td>\n",
              "      <td>-1</td>\n",
              "      <td>91</td>\n",
              "      <td>nebbia</td>\n",
              "      <td>0</td>\n",
              "      <td>NaN</td>\n",
              "    </tr>\n",
              "    <tr>\n",
              "      <th>9</th>\n",
              "      <td>2015-01-10</td>\n",
              "      <td>sabato</td>\n",
              "      <td>14</td>\n",
              "      <td>2</td>\n",
              "      <td>-1</td>\n",
              "      <td>90</td>\n",
              "      <td>nebbia</td>\n",
              "      <td>0</td>\n",
              "      <td>NaN</td>\n",
              "    </tr>\n",
              "    <tr>\n",
              "      <th>10</th>\n",
              "      <td>2015-01-11</td>\n",
              "      <td>domenica</td>\n",
              "      <td>6</td>\n",
              "      <td>1</td>\n",
              "      <td>-2</td>\n",
              "      <td>91</td>\n",
              "      <td>nebbia</td>\n",
              "      <td>0</td>\n",
              "      <td>NaN</td>\n",
              "    </tr>\n",
              "    <tr>\n",
              "      <th>11</th>\n",
              "      <td>2015-01-13</td>\n",
              "      <td>martedì</td>\n",
              "      <td>13</td>\n",
              "      <td>3</td>\n",
              "      <td>-2</td>\n",
              "      <td>70</td>\n",
              "      <td>sole</td>\n",
              "      <td>0</td>\n",
              "      <td>NaN</td>\n",
              "    </tr>\n",
              "    <tr>\n",
              "      <th>12</th>\n",
              "      <td>2015-01-14</td>\n",
              "      <td>mercoledì</td>\n",
              "      <td>13</td>\n",
              "      <td>4</td>\n",
              "      <td>1</td>\n",
              "      <td>87</td>\n",
              "      <td>nebbia</td>\n",
              "      <td>0</td>\n",
              "      <td>NaN</td>\n",
              "    </tr>\n",
              "    <tr>\n",
              "      <th>13</th>\n",
              "      <td>2015-01-15</td>\n",
              "      <td>giovedì</td>\n",
              "      <td>8</td>\n",
              "      <td>4</td>\n",
              "      <td>0</td>\n",
              "      <td>88</td>\n",
              "      <td>pioggia nebbia</td>\n",
              "      <td>0</td>\n",
              "      <td>NaN</td>\n",
              "    </tr>\n",
              "    <tr>\n",
              "      <th>14</th>\n",
              "      <td>2015-01-16</td>\n",
              "      <td>venerdì</td>\n",
              "      <td>15</td>\n",
              "      <td>7</td>\n",
              "      <td>4</td>\n",
              "      <td>80</td>\n",
              "      <td>pioggia</td>\n",
              "      <td>0</td>\n",
              "      <td>NaN</td>\n",
              "    </tr>\n",
              "    <tr>\n",
              "      <th>15</th>\n",
              "      <td>2015-01-17</td>\n",
              "      <td>sabato</td>\n",
              "      <td>20</td>\n",
              "      <td>9</td>\n",
              "      <td>5</td>\n",
              "      <td>86</td>\n",
              "      <td>pioggia</td>\n",
              "      <td>0</td>\n",
              "      <td>NaN</td>\n",
              "    </tr>\n",
              "    <tr>\n",
              "      <th>16</th>\n",
              "      <td>2015-01-18</td>\n",
              "      <td>domenica</td>\n",
              "      <td>18</td>\n",
              "      <td>5</td>\n",
              "      <td>1</td>\n",
              "      <td>80</td>\n",
              "      <td>sole</td>\n",
              "      <td>0</td>\n",
              "      <td>NaN</td>\n",
              "    </tr>\n",
              "    <tr>\n",
              "      <th>17</th>\n",
              "      <td>2015-01-20</td>\n",
              "      <td>martedì</td>\n",
              "      <td>16</td>\n",
              "      <td>2</td>\n",
              "      <td>-1</td>\n",
              "      <td>89</td>\n",
              "      <td>nebbia</td>\n",
              "      <td>0</td>\n",
              "      <td>NaN</td>\n",
              "    </tr>\n",
              "    <tr>\n",
              "      <th>18</th>\n",
              "      <td>2015-01-21</td>\n",
              "      <td>mercoledì</td>\n",
              "      <td>12</td>\n",
              "      <td>4</td>\n",
              "      <td>1</td>\n",
              "      <td>85</td>\n",
              "      <td>pioggia</td>\n",
              "      <td>0</td>\n",
              "      <td>NaN</td>\n",
              "    </tr>\n",
              "    <tr>\n",
              "      <th>19</th>\n",
              "      <td>2015-01-22</td>\n",
              "      <td>giovedì</td>\n",
              "      <td>7</td>\n",
              "      <td>6</td>\n",
              "      <td>5</td>\n",
              "      <td>87</td>\n",
              "      <td>pioggia</td>\n",
              "      <td>0</td>\n",
              "      <td>NaN</td>\n",
              "    </tr>\n",
              "    <tr>\n",
              "      <th>20</th>\n",
              "      <td>2015-01-23</td>\n",
              "      <td>venerdì</td>\n",
              "      <td>11</td>\n",
              "      <td>6</td>\n",
              "      <td>2</td>\n",
              "      <td>80</td>\n",
              "      <td>sole</td>\n",
              "      <td>0</td>\n",
              "      <td>NaN</td>\n",
              "    </tr>\n",
              "    <tr>\n",
              "      <th>21</th>\n",
              "      <td>2015-01-24</td>\n",
              "      <td>sabato</td>\n",
              "      <td>28</td>\n",
              "      <td>5</td>\n",
              "      <td>2</td>\n",
              "      <td>75</td>\n",
              "      <td>sole</td>\n",
              "      <td>0</td>\n",
              "      <td>NaN</td>\n",
              "    </tr>\n",
              "  </tbody>\n",
              "</table>\n",
              "</div>"
            ],
            "text/plain": [
              "         date    dayname  sales  ...          weather  juventus         holidays\n",
              "0  2015-01-01    giovedì      6  ...             sole         0  Primo dell'Anno\n",
              "1  2015-01-02    venerdì      9  ...             sole         0              NaN\n",
              "2  2015-01-03     sabato     14  ...             sole         0              NaN\n",
              "3  2015-01-04   domenica     10  ...             sole         0              NaN\n",
              "5  2015-01-06    martedì     13  ...             sole         0         Epifania\n",
              "6  2015-01-07  mercoledì      4  ...             sole   serie A              NaN\n",
              "7  2015-01-08    giovedì     10  ...             sole         0              NaN\n",
              "8  2015-01-09    venerdì     13  ...          nebbia          0              NaN\n",
              "9  2015-01-10     sabato     14  ...          nebbia          0              NaN\n",
              "10 2015-01-11   domenica      6  ...          nebbia          0              NaN\n",
              "11 2015-01-13    martedì     13  ...             sole         0              NaN\n",
              "12 2015-01-14  mercoledì     13  ...          nebbia          0              NaN\n",
              "13 2015-01-15    giovedì      8  ...  pioggia nebbia          0              NaN\n",
              "14 2015-01-16    venerdì     15  ...         pioggia          0              NaN\n",
              "15 2015-01-17     sabato     20  ...         pioggia          0              NaN\n",
              "16 2015-01-18   domenica     18  ...             sole         0              NaN\n",
              "17 2015-01-20    martedì     16  ...          nebbia          0              NaN\n",
              "18 2015-01-21  mercoledì     12  ...         pioggia          0              NaN\n",
              "19 2015-01-22    giovedì      7  ...         pioggia          0              NaN\n",
              "20 2015-01-23    venerdì     11  ...             sole         0              NaN\n",
              "21 2015-01-24     sabato     28  ...             sole         0              NaN\n",
              "\n",
              "[21 rows x 9 columns]"
            ]
          },
          "metadata": {
            "tags": []
          },
          "execution_count": 13
        }
      ]
    },
    {
      "cell_type": "code",
      "metadata": {
        "id": "58b9mIWyhm7F",
        "colab_type": "code",
        "outputId": "03b72f03-ee79-4686-9f73-36d2e4380c0b",
        "colab": {
          "base_uri": "https://localhost:8080/",
          "height": 510
        }
      },
      "source": [
        "plt.figure(figsize=(12, 6))\n",
        "sns.lineplot(data=df.loc[:100], x='date', y='sales')\n",
        "plt.show()"
      ],
      "execution_count": 14,
      "outputs": [
        {
          "output_type": "stream",
          "text": [
            "/usr/local/lib/python3.6/dist-packages/pandas/plotting/_matplotlib/converter.py:103: FutureWarning: Using an implicitly registered datetime converter for a matplotlib plotting method. The converter was registered by pandas on import. Future versions of pandas will require you to explicitly register matplotlib converters.\n",
            "\n",
            "To register the converters:\n",
            "\t>>> from pandas.plotting import register_matplotlib_converters\n",
            "\t>>> register_matplotlib_converters()\n",
            "  warnings.warn(msg, FutureWarning)\n"
          ],
          "name": "stderr"
        },
        {
          "output_type": "display_data",
          "data": {
            "image/png": "[encoded data removed]",
            "text/plain": [
              "<Figure size 864x432 with 1 Axes>"
            ]
          },
          "metadata": {
            "tags": []
          }
        }
      ]
    },
    {
      "cell_type": "code",
      "metadata": {
        "id": "TIRc0lqWiK3X",
        "colab_type": "code",
        "outputId": "6a858bf2-819c-4db8-b936-93ae25a1862f",
        "colab": {
          "base_uri": "https://localhost:8080/",
          "height": 374
        }
      },
      "source": [
        "plt.figure(figsize=(12, 6))\n",
        "plt.scatter(x=df.loc[:100, 'date'], y=df.loc[:100, 'sales'])\n",
        "plt.show()"
      ],
      "execution_count": 15,
      "outputs": [
        {
          "output_type": "display_data",
          "data": {
            "image/png": "[encoded data removed]",
            "text/plain": [
              "<Figure size 864x432 with 1 Axes>"
            ]
          },
          "metadata": {
            "tags": []
          }
        }
      ]
    },
    {
      "cell_type": "markdown",
      "metadata": {
        "id": "hxYhriYlisJ1",
        "colab_type": "text"
      },
      "source": [
        "* Fist 20 days after opening: OK (not anomalies)\n",
        "* Days: 2015-04-05/06 (index=82,83) anomalies doe to Easter?"
      ]
    },
    {
      "cell_type": "code",
      "metadata": {
        "id": "GFEO4Kw4jYYH",
        "colab_type": "code",
        "outputId": "5787ad4a-c253-4fff-8d8e-7d5b5f450459",
        "colab": {
          "base_uri": "https://localhost:8080/",
          "height": 235
        }
      },
      "source": [
        "df.loc[80:85]"
      ],
      "execution_count": 16,
      "outputs": [
        {
          "output_type": "execute_result",
          "data": {
            "text/html": [
              "<div>\n",
              "<style scoped>\n",
              "    .dataframe tbody tr th:only-of-type {\n",
              "        vertical-align: middle;\n",
              "    }\n",
              "\n",
              "    .dataframe tbody tr th {\n",
              "        vertical-align: top;\n",
              "    }\n",
              "\n",
              "    .dataframe thead th {\n",
              "        text-align: right;\n",
              "    }\n",
              "</style>\n",
              "<table border=\"1\" class=\"dataframe\">\n",
              "  <thead>\n",
              "    <tr style=\"text-align: right;\">\n",
              "      <th></th>\n",
              "      <th>date</th>\n",
              "      <th>dayname</th>\n",
              "      <th>sales</th>\n",
              "      <th>t_media</th>\n",
              "      <th>t_min</th>\n",
              "      <th>umidità_percentuale</th>\n",
              "      <th>weather</th>\n",
              "      <th>juventus</th>\n",
              "      <th>holidays</th>\n",
              "    </tr>\n",
              "  </thead>\n",
              "  <tbody>\n",
              "    <tr>\n",
              "      <th>80</th>\n",
              "      <td>2015-04-03</td>\n",
              "      <td>venerdì</td>\n",
              "      <td>14</td>\n",
              "      <td>11</td>\n",
              "      <td>7</td>\n",
              "      <td>47</td>\n",
              "      <td>sole</td>\n",
              "      <td>0</td>\n",
              "      <td>NaN</td>\n",
              "    </tr>\n",
              "    <tr>\n",
              "      <th>81</th>\n",
              "      <td>2015-04-04</td>\n",
              "      <td>sabato</td>\n",
              "      <td>17</td>\n",
              "      <td>10</td>\n",
              "      <td>8</td>\n",
              "      <td>53</td>\n",
              "      <td>sole</td>\n",
              "      <td>0</td>\n",
              "      <td>NaN</td>\n",
              "    </tr>\n",
              "    <tr>\n",
              "      <th>82</th>\n",
              "      <td>2015-04-05</td>\n",
              "      <td>domenica</td>\n",
              "      <td>5</td>\n",
              "      <td>9</td>\n",
              "      <td>6</td>\n",
              "      <td>62</td>\n",
              "      <td>pioggia</td>\n",
              "      <td>serie A</td>\n",
              "      <td>Pasqua</td>\n",
              "    </tr>\n",
              "    <tr>\n",
              "      <th>83</th>\n",
              "      <td>2015-04-07</td>\n",
              "      <td>martedì</td>\n",
              "      <td>8</td>\n",
              "      <td>10</td>\n",
              "      <td>2</td>\n",
              "      <td>37</td>\n",
              "      <td>sole</td>\n",
              "      <td>0</td>\n",
              "      <td>NaN</td>\n",
              "    </tr>\n",
              "    <tr>\n",
              "      <th>84</th>\n",
              "      <td>2015-04-08</td>\n",
              "      <td>mercoledì</td>\n",
              "      <td>15</td>\n",
              "      <td>11</td>\n",
              "      <td>2</td>\n",
              "      <td>46</td>\n",
              "      <td>sole</td>\n",
              "      <td>0</td>\n",
              "      <td>NaN</td>\n",
              "    </tr>\n",
              "    <tr>\n",
              "      <th>85</th>\n",
              "      <td>2015-04-09</td>\n",
              "      <td>giovedì</td>\n",
              "      <td>12</td>\n",
              "      <td>13</td>\n",
              "      <td>6</td>\n",
              "      <td>53</td>\n",
              "      <td>sole</td>\n",
              "      <td>0</td>\n",
              "      <td>NaN</td>\n",
              "    </tr>\n",
              "  </tbody>\n",
              "</table>\n",
              "</div>"
            ],
            "text/plain": [
              "         date    dayname  sales  ...   weather  juventus  holidays\n",
              "80 2015-04-03    venerdì     14  ...      sole         0       NaN\n",
              "81 2015-04-04     sabato     17  ...      sole         0       NaN\n",
              "82 2015-04-05   domenica      5  ...  pioggia    serie A    Pasqua\n",
              "83 2015-04-07    martedì      8  ...      sole         0       NaN\n",
              "84 2015-04-08  mercoledì     15  ...      sole         0       NaN\n",
              "85 2015-04-09    giovedì     12  ...      sole         0       NaN\n",
              "\n",
              "[6 rows x 9 columns]"
            ]
          },
          "metadata": {
            "tags": []
          },
          "execution_count": 16
        }
      ]
    },
    {
      "cell_type": "code",
      "metadata": {
        "id": "CH5XjyPfjooa",
        "colab_type": "code",
        "outputId": "2c59d0a1-352f-4229-e0ac-807a38488dbd",
        "colab": {
          "base_uri": "https://localhost:8080/",
          "height": 80
        }
      },
      "source": [
        "df.query(\"holidays == 'Pasqua'\")"
      ],
      "execution_count": 17,
      "outputs": [
        {
          "output_type": "execute_result",
          "data": {
            "text/html": [
              "<div>\n",
              "<style scoped>\n",
              "    .dataframe tbody tr th:only-of-type {\n",
              "        vertical-align: middle;\n",
              "    }\n",
              "\n",
              "    .dataframe tbody tr th {\n",
              "        vertical-align: top;\n",
              "    }\n",
              "\n",
              "    .dataframe thead th {\n",
              "        text-align: right;\n",
              "    }\n",
              "</style>\n",
              "<table border=\"1\" class=\"dataframe\">\n",
              "  <thead>\n",
              "    <tr style=\"text-align: right;\">\n",
              "      <th></th>\n",
              "      <th>date</th>\n",
              "      <th>dayname</th>\n",
              "      <th>sales</th>\n",
              "      <th>t_media</th>\n",
              "      <th>t_min</th>\n",
              "      <th>umidità_percentuale</th>\n",
              "      <th>weather</th>\n",
              "      <th>juventus</th>\n",
              "      <th>holidays</th>\n",
              "    </tr>\n",
              "  </thead>\n",
              "  <tbody>\n",
              "    <tr>\n",
              "      <th>82</th>\n",
              "      <td>2015-04-05</td>\n",
              "      <td>domenica</td>\n",
              "      <td>5</td>\n",
              "      <td>9</td>\n",
              "      <td>6</td>\n",
              "      <td>62</td>\n",
              "      <td>pioggia</td>\n",
              "      <td>serie A</td>\n",
              "      <td>Pasqua</td>\n",
              "    </tr>\n",
              "  </tbody>\n",
              "</table>\n",
              "</div>"
            ],
            "text/plain": [
              "         date   dayname  sales  ...   weather  juventus  holidays\n",
              "82 2015-04-05  domenica      5  ...  pioggia    serie A    Pasqua\n",
              "\n",
              "[1 rows x 9 columns]"
            ]
          },
          "metadata": {
            "tags": []
          },
          "execution_count": 17
        }
      ]
    },
    {
      "cell_type": "markdown",
      "metadata": {
        "id": "woOBQahlkBwe",
        "colab_type": "text"
      },
      "source": [
        "**Easter is a disaster for sales**"
      ]
    },
    {
      "cell_type": "code",
      "metadata": {
        "id": "hr_K1PbQmETS",
        "colab_type": "code",
        "outputId": "b92e2af1-9efa-486c-8898-e4125981e9aa",
        "colab": {
          "base_uri": "https://localhost:8080/",
          "height": 34
        }
      },
      "source": [
        "df.loc[439].name"
      ],
      "execution_count": 18,
      "outputs": [
        {
          "output_type": "execute_result",
          "data": {
            "text/plain": [
              "439"
            ]
          },
          "metadata": {
            "tags": []
          },
          "execution_count": 18
        }
      ]
    },
    {
      "cell_type": "code",
      "metadata": {
        "id": "D-yzS57Cm0it",
        "colab_type": "code",
        "outputId": "96c7ac5f-901d-491b-d2eb-f64afc4030cd",
        "colab": {
          "base_uri": "https://localhost:8080/",
          "height": 85
        }
      },
      "source": [
        "for date in df.loc[[439, 616, 632, 852], 'date']:\n",
        "    print(date)"
      ],
      "execution_count": 19,
      "outputs": [
        {
          "output_type": "stream",
          "text": [
            "2016-05-31 00:00:00\n",
            "2016-12-22 00:00:00\n",
            "2017-01-10 00:00:00\n",
            "2017-09-23 00:00:00\n"
          ],
          "name": "stdout"
        }
      ]
    },
    {
      "cell_type": "code",
      "metadata": {
        "id": "e9NcRXtRhFPz",
        "colab_type": "code",
        "outputId": "ed36cc1d-f85e-43fc-bdc0-00ddf1ef4f78",
        "colab": {
          "base_uri": "https://localhost:8080/",
          "height": 388
        }
      },
      "source": [
        "plt.figure(figsize=(18, 6))\n",
        "sns.lineplot(data=df.loc[400:860], x='date', y='sales')\n",
        "for date in df.loc[[439, 616, 632, 852], 'date']:\n",
        "    plt.vlines(x=date, ymin=0, ymax=60, color='r', lw=1.5, ls='--')\n",
        "plt.show()"
      ],
      "execution_count": 20,
      "outputs": [
        {
          "output_type": "display_data",
          "data": {
            "image/png": "[encoded data removed]",
            "text/plain": [
              "<Figure size 1296x432 with 1 Axes>"
            ]
          },
          "metadata": {
            "tags": []
          }
        }
      ]
    },
    {
      "cell_type": "markdown",
      "metadata": {
        "id": "37ReAW9KoqVz",
        "colab_type": "text"
      },
      "source": [
        "### Bollinger Bands"
      ]
    },
    {
      "cell_type": "code",
      "metadata": {
        "id": "_40-uHszosFl",
        "colab_type": "code",
        "colab": {}
      },
      "source": [
        "ma_list = []\n",
        "std_list = []\n",
        "window = [1, 5, 6, 7]\n",
        "\n",
        "for idx in range(len(df)):\n",
        "    if idx > 6:\n",
        "        ma_val = np.mean([df.iloc[idx-k].sales for k in window])\n",
        "        std_val = np.std([df.iloc[idx-k].sales for k in window])\n",
        "    else:\n",
        "        ma_val = np.nan\n",
        "        std_val = np.nan\n",
        "    ma_list.append(ma_val)\n",
        "    std_list.append(std_val)\n",
        "\n",
        "df['ma_4'] = ma_list\n",
        "df['ma_std'] = std_list"
      ],
      "execution_count": 0,
      "outputs": []
    },
    {
      "cell_type": "code",
      "metadata": {
        "id": "_857PWNXsfNL",
        "colab_type": "code",
        "colab": {}
      },
      "source": [
        "df['ma-3std'] = df.ma_4 - 2*df.ma_std\n",
        "df['ma+3std'] = df.ma_4 + 2*df.ma_std"
      ],
      "execution_count": 0,
      "outputs": []
    },
    {
      "cell_type": "code",
      "metadata": {
        "id": "NzdZ2ry1qkk0",
        "colab_type": "code",
        "outputId": "6c858aac-3581-49d1-c4c8-dcdc41b2d301",
        "colab": {
          "base_uri": "https://localhost:8080/",
          "height": 390
        }
      },
      "source": [
        "plt.figure(figsize=(18, 6))\n",
        "sns.lineplot(data=df.loc[400:860], x='date', y='sales', lw=0.5, ls='--')\n",
        "sns.lineplot(data=df.loc[400:860], x='date', y='ma_4')\n",
        "sns.lineplot(data=df.loc[400:860], x='date', y='ma-3std', color='red')\n",
        "sns.lineplot(data=df.loc[400:860], x='date', y='ma+3std', color='red')\n",
        "plt.show()"
      ],
      "execution_count": 23,
      "outputs": [
        {
          "output_type": "display_data",
          "data": {
            "image/png": "[encoded data removed]",
            "text/plain": [
              "<Figure size 1296x432 with 1 Axes>"
            ]
          },
          "metadata": {
            "tags": []
          }
        }
      ]
    },
    {
      "cell_type": "code",
      "metadata": {
        "id": "iSp-PhkIrL3F",
        "colab_type": "code",
        "outputId": "a4d9deb1-0419-4e5c-d102-114af620b0ee",
        "colab": {
          "base_uri": "https://localhost:8080/",
          "height": 204
        }
      },
      "source": [
        "df.tail()"
      ],
      "execution_count": 24,
      "outputs": [
        {
          "output_type": "execute_result",
          "data": {
            "text/html": [
              "<div>\n",
              "<style scoped>\n",
              "    .dataframe tbody tr th:only-of-type {\n",
              "        vertical-align: middle;\n",
              "    }\n",
              "\n",
              "    .dataframe tbody tr th {\n",
              "        vertical-align: top;\n",
              "    }\n",
              "\n",
              "    .dataframe thead th {\n",
              "        text-align: right;\n",
              "    }\n",
              "</style>\n",
              "<table border=\"1\" class=\"dataframe\">\n",
              "  <thead>\n",
              "    <tr style=\"text-align: right;\">\n",
              "      <th></th>\n",
              "      <th>date</th>\n",
              "      <th>dayname</th>\n",
              "      <th>sales</th>\n",
              "      <th>t_media</th>\n",
              "      <th>t_min</th>\n",
              "      <th>umidità_percentuale</th>\n",
              "      <th>weather</th>\n",
              "      <th>juventus</th>\n",
              "      <th>holidays</th>\n",
              "      <th>ma_4</th>\n",
              "      <th>ma_std</th>\n",
              "      <th>ma-3std</th>\n",
              "      <th>ma+3std</th>\n",
              "    </tr>\n",
              "  </thead>\n",
              "  <tbody>\n",
              "    <tr>\n",
              "      <th>1515</th>\n",
              "      <td>2019-11-13</td>\n",
              "      <td>mercoledì</td>\n",
              "      <td>32</td>\n",
              "      <td>10</td>\n",
              "      <td>7</td>\n",
              "      <td>65</td>\n",
              "      <td>sole</td>\n",
              "      <td>0</td>\n",
              "      <td>NaN</td>\n",
              "      <td>36.50</td>\n",
              "      <td>8.077747</td>\n",
              "      <td>20.344506</td>\n",
              "      <td>52.655494</td>\n",
              "    </tr>\n",
              "    <tr>\n",
              "      <th>1516</th>\n",
              "      <td>2019-11-14</td>\n",
              "      <td>giovedì</td>\n",
              "      <td>35</td>\n",
              "      <td>8</td>\n",
              "      <td>2</td>\n",
              "      <td>67</td>\n",
              "      <td>sole</td>\n",
              "      <td>0</td>\n",
              "      <td>NaN</td>\n",
              "      <td>39.25</td>\n",
              "      <td>8.466847</td>\n",
              "      <td>22.316306</td>\n",
              "      <td>56.183694</td>\n",
              "    </tr>\n",
              "    <tr>\n",
              "      <th>1517</th>\n",
              "      <td>2019-11-15</td>\n",
              "      <td>venerdì</td>\n",
              "      <td>54</td>\n",
              "      <td>10</td>\n",
              "      <td>6</td>\n",
              "      <td>87</td>\n",
              "      <td>sole</td>\n",
              "      <td>0</td>\n",
              "      <td>NaN</td>\n",
              "      <td>43.75</td>\n",
              "      <td>11.924240</td>\n",
              "      <td>19.901520</td>\n",
              "      <td>67.598480</td>\n",
              "    </tr>\n",
              "    <tr>\n",
              "      <th>1518</th>\n",
              "      <td>2019-11-16</td>\n",
              "      <td>sabato</td>\n",
              "      <td>52</td>\n",
              "      <td>8</td>\n",
              "      <td>5</td>\n",
              "      <td>92</td>\n",
              "      <td>sole</td>\n",
              "      <td>0</td>\n",
              "      <td>NaN</td>\n",
              "      <td>53.75</td>\n",
              "      <td>3.897114</td>\n",
              "      <td>45.955771</td>\n",
              "      <td>61.544229</td>\n",
              "    </tr>\n",
              "    <tr>\n",
              "      <th>1519</th>\n",
              "      <td>2019-11-17</td>\n",
              "      <td>domenica</td>\n",
              "      <td>43</td>\n",
              "      <td>9</td>\n",
              "      <td>5</td>\n",
              "      <td>89</td>\n",
              "      <td>sole</td>\n",
              "      <td>0</td>\n",
              "      <td>NaN</td>\n",
              "      <td>47.50</td>\n",
              "      <td>12.338963</td>\n",
              "      <td>22.822075</td>\n",
              "      <td>72.177925</td>\n",
              "    </tr>\n",
              "  </tbody>\n",
              "</table>\n",
              "</div>"
            ],
            "text/plain": [
              "           date    dayname  sales  ...     ma_std    ma-3std    ma+3std\n",
              "1515 2019-11-13  mercoledì     32  ...   8.077747  20.344506  52.655494\n",
              "1516 2019-11-14    giovedì     35  ...   8.466847  22.316306  56.183694\n",
              "1517 2019-11-15    venerdì     54  ...  11.924240  19.901520  67.598480\n",
              "1518 2019-11-16     sabato     52  ...   3.897114  45.955771  61.544229\n",
              "1519 2019-11-17   domenica     43  ...  12.338963  22.822075  72.177925\n",
              "\n",
              "[5 rows x 13 columns]"
            ]
          },
          "metadata": {
            "tags": []
          },
          "execution_count": 24
        }
      ]
    },
    {
      "cell_type": "markdown",
      "metadata": {
        "id": "WL_ixjZyeEI7",
        "colab_type": "text"
      },
      "source": [
        "## Percentage Variations"
      ]
    },
    {
      "cell_type": "code",
      "metadata": {
        "id": "ZvyLYGsIcUtN",
        "colab_type": "code",
        "colab": {}
      },
      "source": [
        "df['sales_change'] = df.sales.pct_change(periods=1)"
      ],
      "execution_count": 0,
      "outputs": []
    },
    {
      "cell_type": "code",
      "metadata": {
        "id": "cLZPvwZoeJYv",
        "colab_type": "code",
        "outputId": "de24150e-889d-46cd-a02b-3a37e5573d34",
        "colab": {
          "base_uri": "https://localhost:8080/",
          "height": 297
        }
      },
      "source": [
        "sns.distplot(df.sales_change.dropna(), rug=False)"
      ],
      "execution_count": 26,
      "outputs": [
        {
          "output_type": "execute_result",
          "data": {
            "text/plain": [
              "<matplotlib.axes._subplots.AxesSubplot at 0x7fe31ff44198>"
            ]
          },
          "metadata": {
            "tags": []
          },
          "execution_count": 26
        },
        {
          "output_type": "display_data",
          "data": {
            "image/png": "[encoded data removed]",
            "text/plain": [
              "<Figure size 432x288 with 1 Axes>"
            ]
          },
          "metadata": {
            "tags": []
          }
        }
      ]
    },
    {
      "cell_type": "code",
      "metadata": {
        "id": "iItEEMXiehtf",
        "colab_type": "code",
        "outputId": "a94b917d-1f7f-49d1-bf77-6a132ea2c096",
        "colab": {
          "base_uri": "https://localhost:8080/",
          "height": 266
        }
      },
      "source": [
        "df.query('sales_change > 1.5')"
      ],
      "execution_count": 27,
      "outputs": [
        {
          "output_type": "execute_result",
          "data": {
            "text/html": [
              "<div>\n",
              "<style scoped>\n",
              "    .dataframe tbody tr th:only-of-type {\n",
              "        vertical-align: middle;\n",
              "    }\n",
              "\n",
              "    .dataframe tbody tr th {\n",
              "        vertical-align: top;\n",
              "    }\n",
              "\n",
              "    .dataframe thead th {\n",
              "        text-align: right;\n",
              "    }\n",
              "</style>\n",
              "<table border=\"1\" class=\"dataframe\">\n",
              "  <thead>\n",
              "    <tr style=\"text-align: right;\">\n",
              "      <th></th>\n",
              "      <th>date</th>\n",
              "      <th>dayname</th>\n",
              "      <th>sales</th>\n",
              "      <th>t_media</th>\n",
              "      <th>t_min</th>\n",
              "      <th>umidità_percentuale</th>\n",
              "      <th>weather</th>\n",
              "      <th>juventus</th>\n",
              "      <th>holidays</th>\n",
              "      <th>ma_4</th>\n",
              "      <th>ma_std</th>\n",
              "      <th>ma-3std</th>\n",
              "      <th>ma+3std</th>\n",
              "      <th>sales_change</th>\n",
              "    </tr>\n",
              "  </thead>\n",
              "  <tbody>\n",
              "    <tr>\n",
              "      <th>21</th>\n",
              "      <td>2015-01-24</td>\n",
              "      <td>sabato</td>\n",
              "      <td>28</td>\n",
              "      <td>5</td>\n",
              "      <td>2</td>\n",
              "      <td>75</td>\n",
              "      <td>sole</td>\n",
              "      <td>0</td>\n",
              "      <td>NaN</td>\n",
              "      <td>16.00</td>\n",
              "      <td>3.391165</td>\n",
              "      <td>9.217670</td>\n",
              "      <td>22.782330</td>\n",
              "      <td>1.545455</td>\n",
              "    </tr>\n",
              "    <tr>\n",
              "      <th>385</th>\n",
              "      <td>2016-03-26</td>\n",
              "      <td>sabato</td>\n",
              "      <td>26</td>\n",
              "      <td>11</td>\n",
              "      <td>4</td>\n",
              "      <td>65</td>\n",
              "      <td>sole</td>\n",
              "      <td>0</td>\n",
              "      <td>NaN</td>\n",
              "      <td>25.25</td>\n",
              "      <td>9.705024</td>\n",
              "      <td>5.839951</td>\n",
              "      <td>44.660049</td>\n",
              "      <td>1.600000</td>\n",
              "    </tr>\n",
              "    <tr>\n",
              "      <th>440</th>\n",
              "      <td>2016-06-01</td>\n",
              "      <td>mercoledì</td>\n",
              "      <td>23</td>\n",
              "      <td>18</td>\n",
              "      <td>13</td>\n",
              "      <td>78</td>\n",
              "      <td>pioggia</td>\n",
              "      <td>0</td>\n",
              "      <td>NaN</td>\n",
              "      <td>18.75</td>\n",
              "      <td>6.179604</td>\n",
              "      <td>6.390793</td>\n",
              "      <td>31.109207</td>\n",
              "      <td>1.555556</td>\n",
              "    </tr>\n",
              "    <tr>\n",
              "      <th>581</th>\n",
              "      <td>2016-11-11</td>\n",
              "      <td>venerdì</td>\n",
              "      <td>26</td>\n",
              "      <td>6</td>\n",
              "      <td>2</td>\n",
              "      <td>87</td>\n",
              "      <td>sole</td>\n",
              "      <td>0</td>\n",
              "      <td>NaN</td>\n",
              "      <td>19.50</td>\n",
              "      <td>9.937303</td>\n",
              "      <td>-0.374607</td>\n",
              "      <td>39.374607</td>\n",
              "      <td>1.600000</td>\n",
              "    </tr>\n",
              "    <tr>\n",
              "      <th>612</th>\n",
              "      <td>2016-12-17</td>\n",
              "      <td>sabato</td>\n",
              "      <td>40</td>\n",
              "      <td>0</td>\n",
              "      <td>-4</td>\n",
              "      <td>92</td>\n",
              "      <td>sole</td>\n",
              "      <td>0</td>\n",
              "      <td>NaN</td>\n",
              "      <td>23.50</td>\n",
              "      <td>5.852350</td>\n",
              "      <td>11.795300</td>\n",
              "      <td>35.204700</td>\n",
              "      <td>1.666667</td>\n",
              "    </tr>\n",
              "    <tr>\n",
              "      <th>672</th>\n",
              "      <td>2017-02-25</td>\n",
              "      <td>sabato</td>\n",
              "      <td>43</td>\n",
              "      <td>8</td>\n",
              "      <td>2</td>\n",
              "      <td>59</td>\n",
              "      <td>sole</td>\n",
              "      <td>0</td>\n",
              "      <td>NaN</td>\n",
              "      <td>25.75</td>\n",
              "      <td>8.613217</td>\n",
              "      <td>8.523567</td>\n",
              "      <td>42.976433</td>\n",
              "      <td>2.583333</td>\n",
              "    </tr>\n",
              "    <tr>\n",
              "      <th>853</th>\n",
              "      <td>2017-09-24</td>\n",
              "      <td>domenica</td>\n",
              "      <td>30</td>\n",
              "      <td>16</td>\n",
              "      <td>13</td>\n",
              "      <td>81</td>\n",
              "      <td>pioggia temporale</td>\n",
              "      <td>serie A</td>\n",
              "      <td>NaN</td>\n",
              "      <td>20.00</td>\n",
              "      <td>10.319884</td>\n",
              "      <td>-0.639767</td>\n",
              "      <td>40.639767</td>\n",
              "      <td>5.000000</td>\n",
              "    </tr>\n",
              "  </tbody>\n",
              "</table>\n",
              "</div>"
            ],
            "text/plain": [
              "          date    dayname  sales  ...    ma-3std    ma+3std  sales_change\n",
              "21  2015-01-24     sabato     28  ...   9.217670  22.782330      1.545455\n",
              "385 2016-03-26     sabato     26  ...   5.839951  44.660049      1.600000\n",
              "440 2016-06-01  mercoledì     23  ...   6.390793  31.109207      1.555556\n",
              "581 2016-11-11    venerdì     26  ...  -0.374607  39.374607      1.600000\n",
              "612 2016-12-17     sabato     40  ...  11.795300  35.204700      1.666667\n",
              "672 2017-02-25     sabato     43  ...   8.523567  42.976433      2.583333\n",
              "853 2017-09-24   domenica     30  ...  -0.639767  40.639767      5.000000\n",
              "\n",
              "[7 rows x 14 columns]"
            ]
          },
          "metadata": {
            "tags": []
          },
          "execution_count": 27
        }
      ]
    },
    {
      "cell_type": "code",
      "metadata": {
        "id": "0355FicGfJWp",
        "colab_type": "code",
        "outputId": "86f9db47-b56a-4963-8131-afe270bc804f",
        "colab": {
          "base_uri": "https://localhost:8080/",
          "height": 173
        }
      },
      "source": [
        "df.loc[[671, 672, 852, 853]]"
      ],
      "execution_count": 28,
      "outputs": [
        {
          "output_type": "execute_result",
          "data": {
            "text/html": [
              "<div>\n",
              "<style scoped>\n",
              "    .dataframe tbody tr th:only-of-type {\n",
              "        vertical-align: middle;\n",
              "    }\n",
              "\n",
              "    .dataframe tbody tr th {\n",
              "        vertical-align: top;\n",
              "    }\n",
              "\n",
              "    .dataframe thead th {\n",
              "        text-align: right;\n",
              "    }\n",
              "</style>\n",
              "<table border=\"1\" class=\"dataframe\">\n",
              "  <thead>\n",
              "    <tr style=\"text-align: right;\">\n",
              "      <th></th>\n",
              "      <th>date</th>\n",
              "      <th>dayname</th>\n",
              "      <th>sales</th>\n",
              "      <th>t_media</th>\n",
              "      <th>t_min</th>\n",
              "      <th>umidità_percentuale</th>\n",
              "      <th>weather</th>\n",
              "      <th>juventus</th>\n",
              "      <th>holidays</th>\n",
              "      <th>ma_4</th>\n",
              "      <th>ma_std</th>\n",
              "      <th>ma-3std</th>\n",
              "      <th>ma+3std</th>\n",
              "      <th>sales_change</th>\n",
              "    </tr>\n",
              "  </thead>\n",
              "  <tbody>\n",
              "    <tr>\n",
              "      <th>671</th>\n",
              "      <td>2017-02-24</td>\n",
              "      <td>venerdì</td>\n",
              "      <td>12</td>\n",
              "      <td>8</td>\n",
              "      <td>7</td>\n",
              "      <td>91</td>\n",
              "      <td>nebbia</td>\n",
              "      <td>0</td>\n",
              "      <td>NaN</td>\n",
              "      <td>24.75</td>\n",
              "      <td>5.309190</td>\n",
              "      <td>14.131620</td>\n",
              "      <td>35.368380</td>\n",
              "      <td>-0.520000</td>\n",
              "    </tr>\n",
              "    <tr>\n",
              "      <th>672</th>\n",
              "      <td>2017-02-25</td>\n",
              "      <td>sabato</td>\n",
              "      <td>43</td>\n",
              "      <td>8</td>\n",
              "      <td>2</td>\n",
              "      <td>59</td>\n",
              "      <td>sole</td>\n",
              "      <td>0</td>\n",
              "      <td>NaN</td>\n",
              "      <td>25.75</td>\n",
              "      <td>8.613217</td>\n",
              "      <td>8.523567</td>\n",
              "      <td>42.976433</td>\n",
              "      <td>2.583333</td>\n",
              "    </tr>\n",
              "    <tr>\n",
              "      <th>852</th>\n",
              "      <td>2017-09-23</td>\n",
              "      <td>sabato</td>\n",
              "      <td>5</td>\n",
              "      <td>17</td>\n",
              "      <td>12</td>\n",
              "      <td>73</td>\n",
              "      <td>sole</td>\n",
              "      <td>0</td>\n",
              "      <td>NaN</td>\n",
              "      <td>25.75</td>\n",
              "      <td>5.261891</td>\n",
              "      <td>15.226217</td>\n",
              "      <td>36.273783</td>\n",
              "      <td>-0.705882</td>\n",
              "    </tr>\n",
              "    <tr>\n",
              "      <th>853</th>\n",
              "      <td>2017-09-24</td>\n",
              "      <td>domenica</td>\n",
              "      <td>30</td>\n",
              "      <td>16</td>\n",
              "      <td>13</td>\n",
              "      <td>81</td>\n",
              "      <td>pioggia temporale</td>\n",
              "      <td>serie A</td>\n",
              "      <td>NaN</td>\n",
              "      <td>20.00</td>\n",
              "      <td>10.319884</td>\n",
              "      <td>-0.639767</td>\n",
              "      <td>40.639767</td>\n",
              "      <td>5.000000</td>\n",
              "    </tr>\n",
              "  </tbody>\n",
              "</table>\n",
              "</div>"
            ],
            "text/plain": [
              "          date   dayname  sales  ...    ma-3std    ma+3std  sales_change\n",
              "671 2017-02-24   venerdì     12  ...  14.131620  35.368380     -0.520000\n",
              "672 2017-02-25    sabato     43  ...   8.523567  42.976433      2.583333\n",
              "852 2017-09-23    sabato      5  ...  15.226217  36.273783     -0.705882\n",
              "853 2017-09-24  domenica     30  ...  -0.639767  40.639767      5.000000\n",
              "\n",
              "[4 rows x 14 columns]"
            ]
          },
          "metadata": {
            "tags": []
          },
          "execution_count": 28
        }
      ]
    },
    {
      "cell_type": "markdown",
      "metadata": {
        "id": "Cnyb92TG_hhc",
        "colab_type": "text"
      },
      "source": [
        "# Dataset"
      ]
    },
    {
      "cell_type": "code",
      "metadata": {
        "id": "mdnPBKJ__kZo",
        "colab_type": "code",
        "colab": {}
      },
      "source": [
        "dataset = df[['sales', 't_media', 't_min', 'umidità_percentuale', 'juventus', 'sales_change']].copy()"
      ],
      "execution_count": 0,
      "outputs": []
    },
    {
      "cell_type": "markdown",
      "metadata": {
        "id": "qWvfSAZAF7Sa",
        "colab_type": "text"
      },
      "source": [
        "## Day - Month"
      ]
    },
    {
      "cell_type": "code",
      "metadata": {
        "id": "ZNcz7pn8GC5J",
        "colab_type": "code",
        "colab": {}
      },
      "source": [
        "#dataset['day_sin']\n",
        "#dataset['day_cos']\n",
        "#..."
      ],
      "execution_count": 0,
      "outputs": []
    },
    {
      "cell_type": "markdown",
      "metadata": {
        "id": "ufT57GjEBugn",
        "colab_type": "text"
      },
      "source": [
        "## Teams"
      ]
    },
    {
      "cell_type": "code",
      "metadata": {
        "id": "uXfRFqGLBwAL",
        "colab_type": "code",
        "colab": {}
      },
      "source": [
        "dataset.juventus = dataset.juventus.apply(lambda x: 0 if x == '0' else 1)"
      ],
      "execution_count": 0,
      "outputs": []
    },
    {
      "cell_type": "markdown",
      "metadata": {
        "id": "IhiyRQWHzSfJ",
        "colab_type": "text"
      },
      "source": [
        "## Holidays"
      ]
    },
    {
      "cell_type": "code",
      "metadata": {
        "id": "r1le-FVxzT9H",
        "colab_type": "code",
        "outputId": "3aa3e608-b2e4-4a6e-8be6-4f3d479f2ef7",
        "colab": {
          "base_uri": "https://localhost:8080/",
          "height": 153
        }
      },
      "source": [
        "df.holidays.unique()"
      ],
      "execution_count": 32,
      "outputs": [
        {
          "output_type": "execute_result",
          "data": {
            "text/plain": [
              "array([\"Primo dell'Anno\", nan, 'Epifania', 'Giovedì Grasso',\n",
              "       'San Valentino', 'Carnevale', 'Martedì Grasso',\n",
              "       'Festa di San Giuseppe', 'Domenica delle Palme', 'Pasqua',\n",
              "       'Anniversario della Liberazione', 'Festa dei Lavoratori',\n",
              "       'Festa della Mamma', 'Pentecoste', 'Festa della Repubblica',\n",
              "       'Ferragosto', 'Ognissanti', 'Immacolata Concezione',\n",
              "       'Santo Stefano', \"Ultimo dell'Anno\", 'Giorno dei Morti'],\n",
              "      dtype=object)"
            ]
          },
          "metadata": {
            "tags": []
          },
          "execution_count": 32
        }
      ]
    },
    {
      "cell_type": "code",
      "metadata": {
        "id": "Yt_yrkpR-xKC",
        "colab_type": "code",
        "colab": {}
      },
      "source": [
        "dataset = pd.concat([dataset, pd.get_dummies(df.holidays, dummy_na=False)], axis=1)"
      ],
      "execution_count": 0,
      "outputs": []
    },
    {
      "cell_type": "markdown",
      "metadata": {
        "id": "cMjr97WrANpQ",
        "colab_type": "text"
      },
      "source": [
        "## Weather"
      ]
    },
    {
      "cell_type": "code",
      "metadata": {
        "id": "8qLcMSOCAPk4",
        "colab_type": "code",
        "colab": {
          "base_uri": "https://localhost:8080/",
          "height": 68
        },
        "outputId": "2f716479-2ea2-4c55-cc6c-999e185274fa"
      },
      "source": [
        "df.weather.unique()"
      ],
      "execution_count": 34,
      "outputs": [
        {
          "output_type": "execute_result",
          "data": {
            "text/plain": [
              "array(['sole', 'nebbia ', 'pioggia nebbia ', 'pioggia ',\n",
              "       'pioggia temporale nebbia ', 'pioggia temporale ', 'temporale ',\n",
              "       'pioggia neve nebbia ', 'neve ', 'pioggia neve '], dtype=object)"
            ]
          },
          "metadata": {
            "tags": []
          },
          "execution_count": 34
        }
      ]
    },
    {
      "cell_type": "code",
      "metadata": {
        "id": "ALNMuSVaAZ8A",
        "colab_type": "code",
        "colab": {}
      },
      "source": [
        "dataset = pd.concat([dataset, pd.get_dummies(df.weather, drop_first=True, dummy_na=False)], axis=1)"
      ],
      "execution_count": 0,
      "outputs": []
    },
    {
      "cell_type": "code",
      "metadata": {
        "id": "-WavySgS_aLE",
        "colab_type": "code",
        "colab": {
          "base_uri": "https://localhost:8080/",
          "height": 697
        },
        "outputId": "d8925ba9-135c-4481-ce6e-17e9030a9759"
      },
      "source": [
        "dataset.info()"
      ],
      "execution_count": 36,
      "outputs": [
        {
          "output_type": "stream",
          "text": [
            "<class 'pandas.core.frame.DataFrame'>\n",
            "Int64Index: 1509 entries, 0 to 1519\n",
            "Data columns (total 35 columns):\n",
            "sales                             1509 non-null int64\n",
            "t_media                           1509 non-null int64\n",
            "t_min                             1509 non-null int64\n",
            "umidità_percentuale               1509 non-null int64\n",
            "juventus                          1509 non-null int64\n",
            "sales_change                      1508 non-null float64\n",
            "Anniversario della Liberazione    1509 non-null uint8\n",
            "Carnevale                         1509 non-null uint8\n",
            "Domenica delle Palme              1509 non-null uint8\n",
            "Epifania                          1509 non-null uint8\n",
            "Ferragosto                        1509 non-null uint8\n",
            "Festa dei Lavoratori              1509 non-null uint8\n",
            "Festa della Mamma                 1509 non-null uint8\n",
            "Festa della Repubblica            1509 non-null uint8\n",
            "Festa di San Giuseppe             1509 non-null uint8\n",
            "Giorno dei Morti                  1509 non-null uint8\n",
            "Giovedì Grasso                    1509 non-null uint8\n",
            "Immacolata Concezione             1509 non-null uint8\n",
            "Martedì Grasso                    1509 non-null uint8\n",
            "Ognissanti                        1509 non-null uint8\n",
            "Pasqua                            1509 non-null uint8\n",
            "Pentecoste                        1509 non-null uint8\n",
            "Primo dell'Anno                   1509 non-null uint8\n",
            "San Valentino                     1509 non-null uint8\n",
            "Santo Stefano                     1509 non-null uint8\n",
            "Ultimo dell'Anno                  1509 non-null uint8\n",
            "neve                              1509 non-null uint8\n",
            "pioggia                           1509 non-null uint8\n",
            "pioggia nebbia                    1509 non-null uint8\n",
            "pioggia neve                      1509 non-null uint8\n",
            "pioggia neve nebbia               1509 non-null uint8\n",
            "pioggia temporale                 1509 non-null uint8\n",
            "pioggia temporale nebbia          1509 non-null uint8\n",
            "sole                              1509 non-null uint8\n",
            "temporale                         1509 non-null uint8\n",
            "dtypes: float64(1), int64(5), uint8(29)\n",
            "memory usage: 125.3 KB\n"
          ],
          "name": "stdout"
        }
      ]
    },
    {
      "cell_type": "markdown",
      "metadata": {
        "id": "CK2pHmQuFxJU",
        "colab_type": "text"
      },
      "source": [
        "## Lag"
      ]
    },
    {
      "cell_type": "code",
      "metadata": {
        "id": "rZ00kwpJGOO5",
        "colab_type": "code",
        "colab": {}
      },
      "source": [
        "lag_window = [1, 5, 6, 7, 11, 12, 13]"
      ],
      "execution_count": 0,
      "outputs": []
    },
    {
      "cell_type": "code",
      "metadata": {
        "id": "zZ3_9VG-GOCh",
        "colab_type": "code",
        "colab": {}
      },
      "source": [
        "for lag in lag_window:\n",
        "    dataset[f'sales_lag{lag}'] = dataset.sales.shift(lag)"
      ],
      "execution_count": 0,
      "outputs": []
    },
    {
      "cell_type": "code",
      "metadata": {
        "id": "HBZpMxmTFyrg",
        "colab_type": "code",
        "colab": {}
      },
      "source": [
        "dataset = dataset.iloc[max(lag_window):]"
      ],
      "execution_count": 0,
      "outputs": []
    },
    {
      "cell_type": "markdown",
      "metadata": {
        "id": "twShT6ecHlhg",
        "colab_type": "text"
      },
      "source": [
        "## Check Dataset has no empty columns"
      ]
    },
    {
      "cell_type": "code",
      "metadata": {
        "id": "3s8IX4MnHRpU",
        "colab_type": "code",
        "colab": {
          "base_uri": "https://localhost:8080/",
          "height": 748
        },
        "outputId": "6a112c30-759c-4928-9340-b71e03c066ae"
      },
      "source": [
        "dataset.isnull().any(axis=0)"
      ],
      "execution_count": 40,
      "outputs": [
        {
          "output_type": "execute_result",
          "data": {
            "text/plain": [
              "sales                             False\n",
              "t_media                           False\n",
              "t_min                             False\n",
              "umidità_percentuale               False\n",
              "juventus                          False\n",
              "sales_change                      False\n",
              "Anniversario della Liberazione    False\n",
              "Carnevale                         False\n",
              "Domenica delle Palme              False\n",
              "Epifania                          False\n",
              "Ferragosto                        False\n",
              "Festa dei Lavoratori              False\n",
              "Festa della Mamma                 False\n",
              "Festa della Repubblica            False\n",
              "Festa di San Giuseppe             False\n",
              "Giorno dei Morti                  False\n",
              "Giovedì Grasso                    False\n",
              "Immacolata Concezione             False\n",
              "Martedì Grasso                    False\n",
              "Ognissanti                        False\n",
              "Pasqua                            False\n",
              "Pentecoste                        False\n",
              "Primo dell'Anno                   False\n",
              "San Valentino                     False\n",
              "Santo Stefano                     False\n",
              "Ultimo dell'Anno                  False\n",
              "neve                              False\n",
              "pioggia                           False\n",
              "pioggia nebbia                    False\n",
              "pioggia neve                      False\n",
              "pioggia neve nebbia               False\n",
              "pioggia temporale                 False\n",
              "pioggia temporale nebbia          False\n",
              "sole                              False\n",
              "temporale                         False\n",
              "sales_lag1                        False\n",
              "sales_lag5                        False\n",
              "sales_lag6                        False\n",
              "sales_lag7                        False\n",
              "sales_lag11                       False\n",
              "sales_lag12                       False\n",
              "sales_lag13                       False\n",
              "dtype: bool"
            ]
          },
          "metadata": {
            "tags": []
          },
          "execution_count": 40
        }
      ]
    },
    {
      "cell_type": "markdown",
      "metadata": {
        "id": "4Fwgnlmey5K5",
        "colab_type": "text"
      },
      "source": [
        "## Basic Model - Linear Regression"
      ]
    },
    {
      "cell_type": "code",
      "metadata": {
        "id": "62QIDFE-f2m2",
        "colab_type": "code",
        "colab": {}
      },
      "source": [
        "from sklearn.linear_model import Ridge\n",
        "from sklearn.model_selection import TimeSeriesSplit, cross_val_score, RandomizedSearchCV"
      ],
      "execution_count": 0,
      "outputs": []
    },
    {
      "cell_type": "code",
      "metadata": {
        "id": "Ue5yaEcRLkwY",
        "colab_type": "code",
        "colab": {}
      },
      "source": [
        "TEST_SIZE = 0.15"
      ],
      "execution_count": 0,
      "outputs": []
    },
    {
      "cell_type": "code",
      "metadata": {
        "id": "2b7Uu_F1Eah6",
        "colab_type": "code",
        "colab": {}
      },
      "source": [
        "X = dataset.drop(columns=['sales', 'sales_change'])\n",
        "y = dataset.sales\n",
        "\n",
        "split_idx = dataset.iloc[int(len(dataset)*(1-TEST_SIZE))].name\n",
        "\n",
        "X_train, X_test = X.loc[:split_idx], X.loc[split_idx:]\n",
        "y_train, y_test = y.loc[:split_idx], y.loc[split_idx:]"
      ],
      "execution_count": 0,
      "outputs": []
    },
    {
      "cell_type": "code",
      "metadata": {
        "id": "Bsi3JGgyzKir",
        "colab_type": "code",
        "colab": {}
      },
      "source": [
        "model = Ridge()"
      ],
      "execution_count": 0,
      "outputs": []
    },
    {
      "cell_type": "code",
      "metadata": {
        "id": "QzAdxsdkDHVx",
        "colab_type": "code",
        "colab": {}
      },
      "source": [
        "hyperparameters = {'alpha': np.linspace(start=0., stop=5., num=20)}\n",
        "\n",
        "random_search = RandomizedSearchCV(estimator=model,\n",
        "                                   param_distributions=hyperparameters,\n",
        "                                   n_iter=20,\n",
        "                                   cv=TimeSeriesSplit(n_splits=10),\n",
        "                                   n_jobs=-1)"
      ],
      "execution_count": 0,
      "outputs": []
    },
    {
      "cell_type": "code",
      "metadata": {
        "id": "sH_IDcC5EYpy",
        "colab_type": "code",
        "colab": {
          "base_uri": "https://localhost:8080/",
          "height": 238
        },
        "outputId": "444baa37-8533-4a82-ced8-70968a902da5"
      },
      "source": [
        "random_search.fit(X_train, y_train)"
      ],
      "execution_count": 46,
      "outputs": [
        {
          "output_type": "execute_result",
          "data": {
            "text/plain": [
              "RandomizedSearchCV(cv=TimeSeriesSplit(max_train_size=None, n_splits=10),\n",
              "                   error_score='raise-deprecating',\n",
              "                   estimator=Ridge(alpha=1.0, copy_X=True, fit_intercept=True,\n",
              "                                   max_iter=None, normalize=False,\n",
              "                                   random_state=None, solver='auto',\n",
              "                                   tol=0.001),\n",
              "                   iid='warn', n_iter=20, n_jobs=-1,\n",
              "                   param_distributions={'alpha': array([0.        , 0.26315789, 0.52631579, 0.78947368, 1.05263158,\n",
              "       1.31578947, 1.57894737, 1.84210526, 2.10526316, 2.36842105,\n",
              "       2.63157895, 2.89473684, 3.15789474, 3.42105263, 3.68421053,\n",
              "       3.94736842, 4.21052632, 4.47368421, 4.73684211, 5.        ])},\n",
              "                   pre_dispatch='2*n_jobs', random_state=None, refit=True,\n",
              "                   return_train_score=False, scoring=None, verbose=0)"
            ]
          },
          "metadata": {
            "tags": []
          },
          "execution_count": 46
        }
      ]
    },
    {
      "cell_type": "code",
      "metadata": {
        "id": "Q18SyJPCEsa_",
        "colab_type": "code",
        "colab": {
          "base_uri": "https://localhost:8080/",
          "height": 102
        },
        "outputId": "a99022c5-610b-4d24-8a6d-3b8f739e124d"
      },
      "source": [
        "random_search.cv_results_['mean_test_score']"
      ],
      "execution_count": 47,
      "outputs": [
        {
          "output_type": "execute_result",
          "data": {
            "text/plain": [
              "array([-1.05086940e+27,  3.39470889e-01,  3.44208054e-01,  3.46795333e-01,\n",
              "        3.48318164e-01,  3.49258531e-01,  3.49857092e-01,  3.50244544e-01,\n",
              "        3.50496488e-01,  3.50658861e-01,  3.50760682e-01,  3.50820877e-01,\n",
              "        3.50852113e-01,  3.50863051e-01,  3.50859721e-01,  3.50846384e-01,\n",
              "        3.50826086e-01,  3.50801026e-01,  3.50772806e-01,  3.50742597e-01])"
            ]
          },
          "metadata": {
            "tags": []
          },
          "execution_count": 47
        }
      ]
    },
    {
      "cell_type": "code",
      "metadata": {
        "id": "0LTVb0MLA8kV",
        "colab_type": "code",
        "colab": {
          "base_uri": "https://localhost:8080/",
          "height": 51
        },
        "outputId": "6d00eecb-d322-4f5e-9299-1e9a59db4d71"
      },
      "source": [
        "from sklearn.model_selection import cross_val_score\n",
        "\n",
        "cross_val_score(estimator=model, \n",
        "                X=X_train, \n",
        "                y=y_train, \n",
        "                cv=TimeSeriesSplit(n_splits=10),\n",
        "                n_jobs=-1)"
      ],
      "execution_count": 48,
      "outputs": [
        {
          "output_type": "execute_result",
          "data": {
            "text/plain": [
              "array([0.30948173, 0.48037683, 0.11049235, 0.43513778, 0.3431074 ,\n",
              "       0.3550027 , 0.23656895, 0.36624156, 0.35491472, 0.48938476])"
            ]
          },
          "metadata": {
            "tags": []
          },
          "execution_count": 48
        }
      ]
    },
    {
      "cell_type": "code",
      "metadata": {
        "id": "UejM0x0BzNuZ",
        "colab_type": "code",
        "colab": {}
      },
      "source": [
        "best_model = random_search.best_estimator_"
      ],
      "execution_count": 0,
      "outputs": []
    },
    {
      "cell_type": "code",
      "metadata": {
        "id": "SDOCJTqsFkkS",
        "colab_type": "code",
        "colab": {}
      },
      "source": [
        "pred = np.round(best_model.predict(X_test))"
      ],
      "execution_count": 0,
      "outputs": []
    },
    {
      "cell_type": "code",
      "metadata": {
        "id": "fJbn0ACWFpS6",
        "colab_type": "code",
        "colab": {
          "base_uri": "https://localhost:8080/",
          "height": 497
        },
        "outputId": "ec904c32-68d6-49a3-a02f-7c5fa3b178e4"
      },
      "source": [
        "plt.figure(figsize=(8, 8))\n",
        "sns.scatterplot(x=y_test, y=pred)\n",
        "plt.plot([min(y_test), max(y_test)], [min(pred), max(pred)], lw=1.5, color='red', ls='--')\n",
        "plt.xlabel('Sales')\n",
        "plt.ylabel('Predicted Sales')\n",
        "plt.show()"
      ],
      "execution_count": 51,
      "outputs": [
        {
          "output_type": "display_data",
          "data": {
            "image/png": "[encoded data removed]",
            "text/plain": [
              "<Figure size 576x576 with 1 Axes>"
            ]
          },
          "metadata": {
            "tags": []
          }
        }
      ]
    },
    {
      "cell_type": "code",
      "metadata": {
        "id": "na5z8fDcJcF_",
        "colab_type": "code",
        "colab": {
          "base_uri": "https://localhost:8080/",
          "height": 34
        },
        "outputId": "fd991112-0936-4abd-aa70-f38d03dc3629"
      },
      "source": [
        "from sklearn.metrics import r2_score\n",
        "\n",
        "r2_score(y_true=y_test, y_pred=pred)"
      ],
      "execution_count": 52,
      "outputs": [
        {
          "output_type": "execute_result",
          "data": {
            "text/plain": [
              "0.4769615384615383"
            ]
          },
          "metadata": {
            "tags": []
          },
          "execution_count": 52
        }
      ]
    }
  ]
}